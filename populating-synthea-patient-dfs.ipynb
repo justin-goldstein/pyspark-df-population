{
 "cells": [
  {
   "cell_type": "code",
   "execution_count": 1,
   "metadata": {},
   "outputs": [
    {
     "data": {
      "application/vnd.jupyter.widget-view+json": {
       "model_id": "2b2ead46e4754fb6b91135ccba58a440",
       "version_major": 2,
       "version_minor": 0
      },
      "text/plain": [
       "VBox()"
      ]
     },
     "metadata": {},
     "output_type": "display_data"
    },
    {
     "name": "stdout",
     "output_type": "stream",
     "text": [
      "Starting Spark application\n"
     ]
    },
    {
     "data": {
      "text/html": [
       "<table>\n",
       "<tr><th>ID</th><th>YARN Application ID</th><th>Kind</th><th>State</th><th>Spark UI</th><th>Driver log</th><th>Current session?</th></tr><tr><td>1</td><td>application_1595860876898_0002</td><td>pyspark</td><td>idle</td><td><a target=\"_blank\" href=\"http://ip-172-31-75-180.ec2.internal:20888/proxy/application_1595860876898_0002/\">Link</a></td><td><a target=\"_blank\" href=\"http://ip-172-31-75-180.ec2.internal:8042/node/containerlogs/container_1595860876898_0002_01_000001/livy\">Link</a></td><td>✔</td></tr></table>"
      ],
      "text/plain": [
       "<IPython.core.display.HTML object>"
      ]
     },
     "metadata": {},
     "output_type": "display_data"
    },
    {
     "data": {
      "application/vnd.jupyter.widget-view+json": {
       "model_id": "",
       "version_major": 2,
       "version_minor": 0
      },
      "text/plain": [
       "FloatProgress(value=0.0, bar_style='info', description='Progress:', layout=Layout(height='25px', width='50%'),…"
      ]
     },
     "metadata": {},
     "output_type": "display_data"
    },
    {
     "name": "stdout",
     "output_type": "stream",
     "text": [
      "SparkSession available as 'spark'.\n"
     ]
    },
    {
     "data": {
      "application/vnd.jupyter.widget-view+json": {
       "model_id": "",
       "version_major": 2,
       "version_minor": 0
      },
      "text/plain": [
       "FloatProgress(value=0.0, bar_style='info', description='Progress:', layout=Layout(height='25px', width='50%'),…"
      ]
     },
     "metadata": {},
     "output_type": "display_data"
    }
   ],
   "source": [
    "bucket_file = \"s3://ms-syntheamass-1m-mldata/syntheamassCSV/output_1/csv/observations.csv\"\n",
    "observations = spark.read.format(\"csv\").option(\"inferSchema\", True).option(\"header\", True).load(bucket_file)"
   ]
  },
  {
   "cell_type": "code",
   "execution_count": 2,
   "metadata": {},
   "outputs": [
    {
     "data": {
      "application/vnd.jupyter.widget-view+json": {
       "model_id": "670ef08aef7c4ed0ba7a5736666b569a",
       "version_major": 2,
       "version_minor": 0
      },
      "text/plain": [
       "VBox()"
      ]
     },
     "metadata": {},
     "output_type": "display_data"
    },
    {
     "data": {
      "application/vnd.jupyter.widget-view+json": {
       "model_id": "",
       "version_major": 2,
       "version_minor": 0
      },
      "text/plain": [
       "FloatProgress(value=0.0, bar_style='info', description='Progress:', layout=Layout(height='25px', width='50%'),…"
      ]
     },
     "metadata": {},
     "output_type": "display_data"
    },
    {
     "name": "stdout",
     "output_type": "stream",
     "text": [
      "Package                    Version\n",
      "-------------------------- -------\n",
      "beautifulsoup4             4.9.0  \n",
      "boto                       2.49.0 \n",
      "jmespath                   0.9.5  \n",
      "lxml                       4.5.0  \n",
      "mysqlclient                1.4.2  \n",
      "nltk                       3.4.5  \n",
      "nose                       1.3.4  \n",
      "numpy                      1.16.5 \n",
      "pip                        9.0.1  \n",
      "py-dateutil                2.2    \n",
      "python37-sagemaker-pyspark 1.3.0  \n",
      "pytz                       2019.3 \n",
      "PyYAML                     5.3.1  \n",
      "setuptools                 28.8.0 \n",
      "six                        1.13.0 \n",
      "soupsieve                  1.9.5  \n",
      "wheel                      0.29.0 \n",
      "windmill                   1.6"
     ]
    }
   ],
   "source": [
    "sc.list_packages()\n"
   ]
  },
  {
   "cell_type": "code",
   "execution_count": 3,
   "metadata": {},
   "outputs": [
    {
     "data": {
      "application/vnd.jupyter.widget-view+json": {
       "model_id": "6f7a28b3f25a4301b60c5210f93bc42a",
       "version_major": 2,
       "version_minor": 0
      },
      "text/plain": [
       "VBox()"
      ]
     },
     "metadata": {},
     "output_type": "display_data"
    },
    {
     "data": {
      "application/vnd.jupyter.widget-view+json": {
       "model_id": "",
       "version_major": 2,
       "version_minor": 0
      },
      "text/plain": [
       "FloatProgress(value=0.0, bar_style='info', description='Progress:', layout=Layout(height='25px', width='50%'),…"
      ]
     },
     "metadata": {},
     "output_type": "display_data"
    },
    {
     "name": "stdout",
     "output_type": "stream",
     "text": [
      "+-------------------+--------------------+--------------------+-------+--------------------+------+-----+\n",
      "|               DATE|             PATIENT|           ENCOUNTER|   CODE|         DESCRIPTION| VALUE|UNITS|\n",
      "+-------------------+--------------------+--------------------+-------+--------------------+------+-----+\n",
      "|2011-07-02 00:00:00|33f33990-ae8b-4be...|673daa98-67e9-4e8...| 8302-2|         Body Height|175.76|   cm|\n",
      "|2011-03-12 00:00:00|36d131ee-dd5b-4ac...|bac018de-114a-481...| 8302-2|         Body Height|167.28|   cm|\n",
      "|2011-07-02 00:00:00|33f33990-ae8b-4be...|673daa98-67e9-4e8...|29463-7|         Body Weight| 56.51|   kg|\n",
      "|2011-03-12 00:00:00|36d131ee-dd5b-4ac...|bac018de-114a-481...|29463-7|         Body Weight| 63.35|   kg|\n",
      "|2011-07-02 00:00:00|33f33990-ae8b-4be...|673daa98-67e9-4e8...|39156-5|     Body Mass Index| 18.29|kg/m2|\n",
      "|2011-03-12 00:00:00|36d131ee-dd5b-4ac...|bac018de-114a-481...|39156-5|     Body Mass Index| 22.64|kg/m2|\n",
      "|2011-07-02 00:00:00|33f33990-ae8b-4be...|673daa98-67e9-4e8...| 8480-6|Systolic Blood Pr...| 119.0| mmHg|\n",
      "|2011-07-02 00:00:00|33f33990-ae8b-4be...|673daa98-67e9-4e8...| 8462-4|Diastolic Blood P...|  77.0| mmHg|\n",
      "|2011-03-12 00:00:00|36d131ee-dd5b-4ac...|bac018de-114a-481...| 8480-6|Systolic Blood Pr...| 100.0| mmHg|\n",
      "|2011-03-12 00:00:00|36d131ee-dd5b-4ac...|bac018de-114a-481...| 8462-4|Diastolic Blood P...|  83.0| mmHg|\n",
      "|2012-06-17 00:00:00|33f33990-ae8b-4be...|be0aa510-645e-421...| 8302-2|         Body Height|177.25|   cm|\n",
      "|2012-06-17 00:00:00|33f33990-ae8b-4be...|be0aa510-645e-421...|29463-7|         Body Weight| 59.87|   kg|\n",
      "|2012-06-17 00:00:00|33f33990-ae8b-4be...|be0aa510-645e-421...|39156-5|     Body Mass Index| 19.05|kg/m2|\n",
      "|2012-06-17 00:00:00|33f33990-ae8b-4be...|be0aa510-645e-421...| 8480-6|Systolic Blood Pr...| 113.0| mmHg|\n",
      "|2012-03-26 00:00:00|36d131ee-dd5b-4ac...|296a1fd4-56de-451...| 8302-2|         Body Height|174.17|   cm|\n",
      "|2012-06-17 00:00:00|33f33990-ae8b-4be...|be0aa510-645e-421...| 8462-4|Diastolic Blood P...|  76.0| mmHg|\n",
      "|2012-03-26 00:00:00|36d131ee-dd5b-4ac...|296a1fd4-56de-451...|29463-7|         Body Weight| 69.82|   kg|\n",
      "|2013-07-14 00:00:00|33f33990-ae8b-4be...|a88f1e8d-da51-41e...| 8302-2|         Body Height|178.03|   cm|\n",
      "|2012-03-26 00:00:00|36d131ee-dd5b-4ac...|296a1fd4-56de-451...|39156-5|     Body Mass Index| 23.02|kg/m2|\n",
      "|2013-07-14 00:00:00|33f33990-ae8b-4be...|a88f1e8d-da51-41e...|29463-7|         Body Weight| 62.39|   kg|\n",
      "+-------------------+--------------------+--------------------+-------+--------------------+------+-----+\n",
      "only showing top 20 rows"
     ]
    }
   ],
   "source": [
    "observations.show()"
   ]
  },
  {
   "cell_type": "code",
   "execution_count": 5,
   "metadata": {},
   "outputs": [
    {
     "data": {
      "application/vnd.jupyter.widget-view+json": {
       "model_id": "5aac25c01bcf4ecfa0263442f257f26b",
       "version_major": 2,
       "version_minor": 0
      },
      "text/plain": [
       "VBox()"
      ]
     },
     "metadata": {},
     "output_type": "display_data"
    },
    {
     "data": {
      "application/vnd.jupyter.widget-view+json": {
       "model_id": "",
       "version_major": 2,
       "version_minor": 0
      },
      "text/plain": [
       "FloatProgress(value=0.0, bar_style='info', description='Progress:', layout=Layout(height='25px', width='50%'),…"
      ]
     },
     "metadata": {},
     "output_type": "display_data"
    },
    {
     "name": "stdout",
     "output_type": "stream",
     "text": [
      "+-------------------+--------------------+--------------------+-------+--------------------+------+-----+\n",
      "|               DATE|             PATIENT|           ENCOUNTER|   CODE|         DESCRIPTION| VALUE|UNITS|\n",
      "+-------------------+--------------------+--------------------+-------+--------------------+------+-----+\n",
      "|2014-08-17 00:00:00|81d21ad8-66c7-487...|a7e46792-5260-4c0...| 2085-9|High Density Lipo...|  80.0|mg/dL|\n",
      "|2014-12-29 00:00:00|81d21ad8-66c7-487...|fae60722-56e2-461...| 8331-1|    Oral temperature|  37.0|  Cel|\n",
      "|2015-09-04 00:00:00|81d21ad8-66c7-487...|b84b0442-1b71-4c9...| 8302-2|         Body Height|151.11|   cm|\n",
      "|2015-09-04 00:00:00|81d21ad8-66c7-487...|b84b0442-1b71-4c9...|29463-7|         Body Weight|107.14|   kg|\n",
      "|2015-09-04 00:00:00|81d21ad8-66c7-487...|b84b0442-1b71-4c9...|39156-5|     Body Mass Index| 46.92|kg/m2|\n",
      "|2015-09-04 00:00:00|81d21ad8-66c7-487...|b84b0442-1b71-4c9...| 8480-6|Systolic Blood Pr...| 103.0| mmHg|\n",
      "|2015-09-04 00:00:00|81d21ad8-66c7-487...|b84b0442-1b71-4c9...| 8462-4|Diastolic Blood P...|  80.0| mmHg|\n",
      "|2016-10-06 00:00:00|81d21ad8-66c7-487...|c92db87f-c434-4ab...| 8302-2|         Body Height|151.11|   cm|\n",
      "|2016-10-06 00:00:00|81d21ad8-66c7-487...|c92db87f-c434-4ab...|29463-7|         Body Weight|105.82|   kg|\n",
      "|2016-10-06 00:00:00|81d21ad8-66c7-487...|c92db87f-c434-4ab...|39156-5|     Body Mass Index| 46.34|kg/m2|\n",
      "|2016-10-06 00:00:00|81d21ad8-66c7-487...|c92db87f-c434-4ab...| 8480-6|Systolic Blood Pr...| 131.0| mmHg|\n",
      "|2016-10-06 00:00:00|81d21ad8-66c7-487...|c92db87f-c434-4ab...| 8462-4|Diastolic Blood P...|  76.0| mmHg|\n",
      "|2010-07-11 00:00:00|ef5d3b50-a7f6-4a4...|58a3bc88-48ad-429...| 4548-4|Hemoglobin A1c/He...|   5.8|    %|\n",
      "|2010-07-11 00:00:00|ef5d3b50-a7f6-4a4...|58a3bc88-48ad-429...| 8302-2|         Body Height|184.79|   cm|\n",
      "|2010-07-11 00:00:00|ef5d3b50-a7f6-4a4...|58a3bc88-48ad-429...|29463-7|         Body Weight|113.11|   kg|\n",
      "|2010-07-11 00:00:00|ef5d3b50-a7f6-4a4...|58a3bc88-48ad-429...|39156-5|     Body Mass Index| 33.12|kg/m2|\n",
      "|2010-07-11 00:00:00|ef5d3b50-a7f6-4a4...|58a3bc88-48ad-429...| 8480-6|Systolic Blood Pr...| 176.0| mmHg|\n",
      "|2010-07-11 00:00:00|ef5d3b50-a7f6-4a4...|58a3bc88-48ad-429...| 8462-4|Diastolic Blood P...| 103.0| mmHg|\n",
      "|2010-07-11 00:00:00|ef5d3b50-a7f6-4a4...|58a3bc88-48ad-429...| 4548-4|Hemoglobin A1c/He...|   5.8|    %|\n",
      "|2010-07-11 00:00:00|ef5d3b50-a7f6-4a4...|58a3bc88-48ad-429...| 2339-0|             Glucose|  66.0|mg/dL|\n",
      "+-------------------+--------------------+--------------------+-------+--------------------+------+-----+\n",
      "only showing top 20 rows"
     ]
    }
   ],
   "source": [
    "# observations.write.parquet(\"observations.parquet\")\n",
    "\n",
    "observations = spark.read.load(\"observations.parquet\")\n",
    "observations.show()"
   ]
  },
  {
   "cell_type": "code",
   "execution_count": 47,
   "metadata": {},
   "outputs": [
    {
     "data": {
      "application/vnd.jupyter.widget-view+json": {
       "model_id": "584f099ea2e2418cae0250fa916cbee8",
       "version_major": 2,
       "version_minor": 0
      },
      "text/plain": [
       "VBox()"
      ]
     },
     "metadata": {},
     "output_type": "display_data"
    },
    {
     "data": {
      "application/vnd.jupyter.widget-view+json": {
       "model_id": "",
       "version_major": 2,
       "version_minor": 0
      },
      "text/plain": [
       "FloatProgress(value=0.0, bar_style='info', description='Progress:', layout=Layout(height='25px', width='50%'),…"
      ]
     },
     "metadata": {},
     "output_type": "display_data"
    },
    {
     "name": "stdout",
     "output_type": "stream",
     "text": [
      "None\n",
      "None\n",
      "None\n",
      "None\n",
      "None\n",
      "None"
     ]
    }
   ],
   "source": [
    "observations.createOrReplaceTempView(\"observations\")\n",
    "aliases = [\"Height\", \"Weight\", \"BMI\", \"Cholesterol\", \"Sodium\", \"Glucose\"]\n",
    "columns = [\"Body Height\", \"Body Weight\", \"Body Mass Index\", \"Total Cholesterol\", \"Sodium\", \"Glucose\"]\n",
    "\n",
    "# queries = []\n",
    "# for column, alias in zip(columns, aliases):\n",
    "#     queries.append(f\"\"\"\n",
    "#     select PATIENT, last(VALUE) as {alias} \n",
    "#     from observations\n",
    "#     where DESCRIPTION = \"{column}\" \n",
    "#     group by PATIENT\n",
    "#     \"\"\")\n",
    "\n",
    "# Height = None\n",
    "# Weight = None\n",
    "# BMI = None \n",
    "# Cholesterol = None \n",
    "# Sodium = None\n",
    "# Glucose = None\n",
    "\n",
    "# tables = [Height, Weight, BMI, Cholesterol, Sodium, Glucose]\n",
    " \n",
    "# for column, table in zip(columns, tables):\n",
    "    \n",
    "#     table = spark.sql(f\"\"\"\n",
    "#     select PATIENT, last(VALUE) as {table} \n",
    "#     from observations\n",
    "#     where DESCRIPTION = \"{column}\" \n",
    "#     group by PATIENT\n",
    "#     \"\"\")\n",
    "    \n",
    "# Height.show()\n",
    "    # queries"
   ]
  },
  {
   "cell_type": "code",
   "execution_count": 78,
   "metadata": {},
   "outputs": [
    {
     "data": {
      "application/vnd.jupyter.widget-view+json": {
       "model_id": "417624b04b4847c68c411e112950bfe8",
       "version_major": 2,
       "version_minor": 0
      },
      "text/plain": [
       "VBox()"
      ]
     },
     "metadata": {},
     "output_type": "display_data"
    },
    {
     "data": {
      "application/vnd.jupyter.widget-view+json": {
       "model_id": "",
       "version_major": 2,
       "version_minor": 0
      },
      "text/plain": [
       "FloatProgress(value=0.0, bar_style='info', description='Progress:', layout=Layout(height='25px', width='50%'),…"
      ]
     },
     "metadata": {},
     "output_type": "display_data"
    },
    {
     "name": "stdout",
     "output_type": "stream",
     "text": [
      "+--------------------+\n",
      "|             PATIENT|\n",
      "+--------------------+\n",
      "|b0fb5143-8289-4d4...|\n",
      "|17e06c57-c051-448...|\n",
      "|f87d2d2a-b95e-4b7...|\n",
      "|be7afb01-f9aa-466...|\n",
      "|3dc7a7ae-2705-485...|\n",
      "|3bc07898-b4d2-45b...|\n",
      "|54407c78-7428-48a...|\n",
      "|2a61efc1-b475-413...|\n",
      "|d7c37bf3-1dac-4c8...|\n",
      "|7e8493bd-7af4-464...|\n",
      "|c24abb05-08fc-447...|\n",
      "|f033a98b-ae6e-4f0...|\n",
      "|a940b8ad-9da0-46a...|\n",
      "|21a67bce-0208-404...|\n",
      "|7fe3c7a3-c4ea-442...|\n",
      "|9236b703-654a-499...|\n",
      "|e1f552a4-c0cc-4bc...|\n",
      "|c79c0fb0-7f71-4e3...|\n",
      "|bb702991-6bca-460...|\n",
      "|98c4d244-ef4f-4a8...|\n",
      "+--------------------+\n",
      "only showing top 20 rows"
     ]
    }
   ],
   "source": [
    "observations.createOrReplaceTempView(\"observations\")\n",
    "\n",
    "data = spark.sql(\"\"\"\n",
    "select PATIENT\n",
    "from observations\n",
    "group by 1\n",
    "\"\"\")\n",
    "\n",
    "data.show()"
   ]
  },
  {
   "cell_type": "code",
   "execution_count": 79,
   "metadata": {},
   "outputs": [
    {
     "data": {
      "application/vnd.jupyter.widget-view+json": {
       "model_id": "3109a19c4cce43e6be8b04d808fa78c6",
       "version_major": 2,
       "version_minor": 0
      },
      "text/plain": [
       "VBox()"
      ]
     },
     "metadata": {},
     "output_type": "display_data"
    },
    {
     "data": {
      "application/vnd.jupyter.widget-view+json": {
       "model_id": "",
       "version_major": 2,
       "version_minor": 0
      },
      "text/plain": [
       "FloatProgress(value=0.0, bar_style='info', description='Progress:', layout=Layout(height='25px', width='50%'),…"
      ]
     },
     "metadata": {},
     "output_type": "display_data"
    },
    {
     "name": "stdout",
     "output_type": "stream",
     "text": [
      "+--------------------+------+------+-----+-----------+------+-------+\n",
      "|             PATIENT|Height|Weight|  BMI|Cholesterol|Sodium|Glucose|\n",
      "+--------------------+------+------+-----+-----------+------+-------+\n",
      "|00eec485-f89d-472...| 172.3| 94.04|31.68|      207.0| 140.0|  116.0|\n",
      "|017299f2-de8f-43a...|177.38|135.75|43.15|      161.0| 139.0|   72.0|\n",
      "|018dd53e-4b90-41c...|163.33|136.74|51.26|      162.0| 143.0|   71.0|\n",
      "|0190ce14-8897-495...| 161.1| 72.92| 28.1|      196.0| 137.0|   75.0|\n",
      "|01e7a88d-34ac-494...|173.35|105.97|35.27|      169.0| 143.0|   85.0|\n",
      "|01f649ca-232e-4c1...|151.11|102.05|44.69|      199.0| 140.0|   94.0|\n",
      "|0216c768-a4c0-46a...|169.24| 96.32|33.63|      197.0| 140.0|   64.0|\n",
      "|023230b8-01ca-4d3...|157.84| 92.49|37.13|      179.0| 142.0|   88.0|\n",
      "|02357156-a39f-45f...|185.33|109.37|31.84|      173.0| 143.0|   74.0|\n",
      "|0259aa6f-d531-43f...|163.33|100.15|37.54|      233.0| 140.0|  100.0|\n",
      "|029f2ed6-60a0-4d4...|170.46|111.64|38.42|      171.0| 144.0|   90.0|\n",
      "|02b97303-7790-40e...|170.45|112.29|38.65|      199.0| 144.0|   78.0|\n",
      "|030c04eb-d2db-44b...|166.01|  92.5|33.56|      178.0| 143.0|   72.0|\n",
      "|0319573e-be76-493...|175.46| 92.34|29.99|      160.0| 141.0|   98.0|\n",
      "|032a3bbb-f3f9-49a...|173.81|108.56|35.93|      172.0| 139.0|   71.0|\n",
      "|032b06a5-c22c-496...|162.92|102.96|38.79|      200.0| 143.0|   77.0|\n",
      "|033314e0-a85b-4a2...|166.72| 76.58|27.55|      182.0| 139.0|   99.0|\n",
      "|03644540-9e63-4cb...|181.81|122.25|36.98|      169.0| 142.0|   94.0|\n",
      "|03745294-8bba-414...|170.52| 96.17|33.08|      185.0| 143.0|   81.0|\n",
      "|03a2a827-8305-4d4...|179.26|107.07|33.32|      173.0| 144.0|   93.0|\n",
      "+--------------------+------+------+-----+-----------+------+-------+\n",
      "only showing top 20 rows"
     ]
    }
   ],
   "source": [
    "# observations.createOrReplaceTempView(\"observations\")\n",
    "\n",
    "# new_data = spark.sql(\"select d.* from data d\")\n",
    "# new_data.createOrReplaceTempView(\"new_data\")\n",
    "\n",
    "for indx, query in enumerate(queries):\n",
    "    data.createOrReplaceTempView(\"data\")\n",
    "#     new_data = spark.sql(\"select d.* from data d\")\n",
    "    \n",
    "    temp_table = spark.sql(query)\n",
    "    temp_table.createOrReplaceTempView(\"temp_table\")\n",
    "    \n",
    "    cols_so_far = aliases[:indx]\n",
    "    cols_so_far = str([\"d.\" + col for col in cols_so_far])[1:-1]\n",
    "#     print(cols_so_far)\n",
    "\n",
    "    data = spark.sql(f\"\"\"\n",
    "    select d.*, t.{aliases[indx]}\n",
    "    from data d \n",
    "    join temp_table t\n",
    "    on d.PATIENT = t.PATIENT\"\"\")\n",
    "    \n",
    "#     data.drop('last(PATIENT)').collect()\n",
    "    \n",
    "    \n",
    "data.show()\n"
   ]
  },
  {
   "cell_type": "code",
   "execution_count": 80,
   "metadata": {},
   "outputs": [
    {
     "data": {
      "application/vnd.jupyter.widget-view+json": {
       "model_id": "fbaba3c308514d99a9cce28ebc971a71",
       "version_major": 2,
       "version_minor": 0
      },
      "text/plain": [
       "VBox()"
      ]
     },
     "metadata": {},
     "output_type": "display_data"
    },
    {
     "data": {
      "application/vnd.jupyter.widget-view+json": {
       "model_id": "",
       "version_major": 2,
       "version_minor": 0
      },
      "text/plain": [
       "FloatProgress(value=0.0, bar_style='info', description='Progress:', layout=Layout(height='25px', width='50%'),…"
      ]
     },
     "metadata": {},
     "output_type": "display_data"
    }
   ],
   "source": [
    "data.coalesce(1).write.csv(\"s3://ms-syntheamass-1m-mldata/syntheamassCSV/patient_info2\", mode=\"append\")"
   ]
  },
  {
   "cell_type": "code",
   "execution_count": 55,
   "metadata": {},
   "outputs": [
    {
     "data": {
      "application/vnd.jupyter.widget-view+json": {
       "model_id": "683c0446ad2c4d83bd7f93312ec2a302",
       "version_major": 2,
       "version_minor": 0
      },
      "text/plain": [
       "VBox()"
      ]
     },
     "metadata": {},
     "output_type": "display_data"
    },
    {
     "data": {
      "application/vnd.jupyter.widget-view+json": {
       "model_id": "",
       "version_major": 2,
       "version_minor": 0
      },
      "text/plain": [
       "FloatProgress(value=0.0, bar_style='info', description='Progress:', layout=Layout(height='25px', width='50%'),…"
      ]
     },
     "metadata": {},
     "output_type": "display_data"
    },
    {
     "name": "stdout",
     "output_type": "stream",
     "text": [
      "+--------------------+------+------+-----+-----------+\n",
      "|             PATIENT|Height|Weight|  BMI|Cholesterol|\n",
      "+--------------------+------+------+-----+-----------+\n",
      "|0012bda5-99b1-41d...|159.71|118.43|46.43|      180.0|\n",
      "|0042d5b6-f461-45d...|156.51| 71.62|29.24|      189.0|\n",
      "|0057dc7b-879d-4ef...|151.11|103.05|45.13|      182.0|\n",
      "|00ceb21f-3c0e-4c1...|166.28|118.64|42.91|      172.0|\n",
      "|00e7990c-e3ae-422...|171.15|127.63|43.57|      195.0|\n",
      "|00eec485-f89d-472...| 172.3| 94.04|31.68|      207.0|\n",
      "|00f8bd2d-facf-45e...|176.76|100.97|32.32|      182.0|\n",
      "|01221596-4d36-4e4...|178.74| 68.51|21.44|      175.0|\n",
      "|0132c18b-e210-43a...|186.77| 73.98|21.21|      178.0|\n",
      "|0140ed3f-11cd-48d...|162.88| 93.16|35.12|      179.0|\n",
      "|017299f2-de8f-43a...|177.38|135.75|43.15|      161.0|\n",
      "|017788aa-d0f3-488...|162.09| 89.09|33.91|      186.0|\n",
      "|018dd53e-4b90-41c...|163.33|136.74|51.26|      162.0|\n",
      "|0190ce14-8897-495...| 161.1| 72.92| 28.1|      196.0|\n",
      "|01e7a88d-34ac-494...|173.35|105.97|35.27|      169.0|\n",
      "|01f649ca-232e-4c1...|151.11|102.05|44.69|      199.0|\n",
      "|0216c768-a4c0-46a...|169.24| 96.32|33.63|      197.0|\n",
      "|023230b8-01ca-4d3...|157.84| 92.49|37.13|      179.0|\n",
      "|02357156-a39f-45f...|185.33|109.37|31.84|      173.0|\n",
      "|0259aa6f-d531-43f...|163.33|100.15|37.54|      233.0|\n",
      "+--------------------+------+------+-----+-----------+\n",
      "only showing top 20 rows"
     ]
    }
   ],
   "source": [
    "Height = spark.sql(\"\"\"\n",
    "select PATIENT, last(VALUE) as Height \n",
    "from observations\n",
    "where DESCRIPTION = \"Body Height\" \n",
    "group by PATIENT\n",
    "\"\"\")\n",
    "\n",
    "Weight = spark.sql(\"\"\"\n",
    "select PATIENT, last(VALUE) as Weight \n",
    "from observations\n",
    "where DESCRIPTION = \"Body Weight\" \n",
    "group by PATIENT\n",
    "\"\"\")\n",
    "\n",
    "BMI = spark.sql(\"\"\"\n",
    "select PATIENT, last(VALUE) as BMI \n",
    "from observations\n",
    "where DESCRIPTION = \"Body Mass Index\" \n",
    "group by PATIENT \"\"\")\n",
    "\n",
    "Cholesterol = spark.sql(\"\"\"\n",
    "select PATIENT, last(VALUE) as Cholesterol \n",
    "from observations\n",
    "where DESCRIPTION = \"Total Cholesterol\" \n",
    "group by PATIENT \"\"\")\n",
    "\n",
    "Sodium = spark.sql(\"\"\"\n",
    "select PATIENT, last(VALUE) as Sodium \n",
    "from observations\n",
    "where DESCRIPTION = \"Sodium\" \n",
    "group by PATIENT \"\"\")\n",
    "\n",
    "Glucose = Sodium = spark.sql(\"\"\"\n",
    "select PATIENT, last(VALUE) as Glucose \n",
    "from observations\n",
    "where DESCRIPTION = \"Glucose\" \n",
    "group by PATIENT \"\"\")\n",
    "\n",
    "Height.createOrReplaceTempView(\"Height\")\n",
    "Weight.createOrReplaceTempView(\"Weight\")\n",
    "BMI.createOrReplaceTempView(\"BMI\")\n",
    "Cholesterol.createOrReplaceTempView(\"Cholesterol\")\n",
    "Sodium.createOrReplaceTempView(\"Sodium\")\n",
    "Glucose.createOrReplaceTempView(\"Glucose\")\n",
    "\n",
    "# for table in [Height, Weight, BMI, Cholesterol, Sodium, Glucose]:\n",
    "#     table.createOrReplaceTempView(f\"{table}\")\n",
    "\n",
    "# data = spark.sql(\"\"\"\n",
    "# select d.PATIENT, h.Height, w.Weight, b.BMI, c.Cholesterol, s.Sodium, g.Glucose\n",
    "# from data d\n",
    "# join Height h on h.PATIENT = d.PATIENT\n",
    "# join Weight w on w.PATIENT = d.PATIENT\n",
    "# join BMI b on b.PATIENT = d.PATIENT\n",
    "# join Cholesterol c on c.PATIENT = d.PATIENT\n",
    "# join Sodium s on s.PATIENT = d.PATIENT\n",
    "# join Glucose g on g.PATIENT = d.PATIENT\"\"\")\n",
    "\n",
    "Height.createOrReplaceTempView(\"Height\")\n",
    "Weight.createOrReplaceTempView(\"Weight\")\n",
    "\n",
    "height_and_weight = spark.sql(\"\"\"\n",
    "select h.PATIENT, h.Height, w.Weight\n",
    "from Height h\n",
    "join Weight w\n",
    "on h.PATIENT = w.PATIENT\n",
    "\"\"\")\n",
    "\n",
    "height_and_weight.createOrReplaceTempView(\"hw\")\n",
    "BMI.createOrReplaceTempView(\"BMI\")\n",
    "\n",
    "hwb = spark.sql(\"\"\"\n",
    "select h.PATIENT, h.Height, h.Weight, b.BMI\n",
    "from hw h\n",
    "join BMI b\n",
    "on h.PATIENT = b.PATIENT\n",
    "\"\"\")\n",
    "\n",
    "hwb.createOrReplaceTempView(\"hwb\")\n",
    "Cholesterol.createOrReplaceTempView(\"Cholesterol\")\n",
    "hwbc = spark.sql(\"\"\"\n",
    "select h.PATIENT, h.Height, h.Weight, h.BMI, c.Cholesterol\n",
    "from hwb h\n",
    "join Cholesterol c\n",
    "on h.PATIENT = c.PATIENT\n",
    "\"\"\")\n",
    "\n",
    "hwbc.show()"
   ]
  },
  {
   "cell_type": "code",
   "execution_count": 60,
   "metadata": {},
   "outputs": [
    {
     "data": {
      "application/vnd.jupyter.widget-view+json": {
       "model_id": "95a74203f6cc4f3eb7c073e190894960",
       "version_major": 2,
       "version_minor": 0
      },
      "text/plain": [
       "VBox()"
      ]
     },
     "metadata": {},
     "output_type": "display_data"
    },
    {
     "data": {
      "application/vnd.jupyter.widget-view+json": {
       "model_id": "",
       "version_major": 2,
       "version_minor": 0
      },
      "text/plain": [
       "FloatProgress(value=0.0, bar_style='info', description='Progress:', layout=Layout(height='25px', width='50%'),…"
      ]
     },
     "metadata": {},
     "output_type": "display_data"
    },
    {
     "name": "stderr",
     "output_type": "stream",
     "text": [
      "[Errno 13] Permission denied: 'hwbc.csv'\n",
      "Traceback (most recent call last):\n",
      "  File \"/tmp/1595871225297-0/lib/python3.7/site-packages/pandas/core/generic.py\", line 3204, in to_csv\n",
      "    formatter.save()\n",
      "  File \"/tmp/1595871225297-0/lib/python3.7/site-packages/pandas/io/formats/csvs.py\", line 188, in save\n",
      "    compression=dict(self.compression_args, method=self.compression),\n",
      "  File \"/tmp/1595871225297-0/lib/python3.7/site-packages/pandas/io/common.py\", line 428, in get_handle\n",
      "    f = open(path_or_buf, mode, encoding=encoding, newline=\"\")\n",
      "PermissionError: [Errno 13] Permission denied: 'hwbc.csv'\n",
      "\n"
     ]
    }
   ],
   "source": [
    "hwbc.toPandas().to_csv(\"hwbc.csv\")\n",
    "hwbc.head()\n"
   ]
  },
  {
   "cell_type": "code",
   "execution_count": 57,
   "metadata": {},
   "outputs": [
    {
     "data": {
      "application/vnd.jupyter.widget-view+json": {
       "model_id": "3e74de43b9ab4a79b630a6c8f1547848",
       "version_major": 2,
       "version_minor": 0
      },
      "text/plain": [
       "VBox()"
      ]
     },
     "metadata": {},
     "output_type": "display_data"
    },
    {
     "data": {
      "application/vnd.jupyter.widget-view+json": {
       "model_id": "",
       "version_major": 2,
       "version_minor": 0
      },
      "text/plain": [
       "FloatProgress(value=0.0, bar_style='info', description='Progress:', layout=Layout(height='25px', width='50%'),…"
      ]
     },
     "metadata": {},
     "output_type": "display_data"
    },
    {
     "name": "stdout",
     "output_type": "stream",
     "text": [
      "Collecting pandas\n",
      "  Downloading https://files.pythonhosted.org/packages/af/f3/683bf2547a3eaeec15b39cef86f61e921b3b187f250fcd2b5c5fb4386369/pandas-1.0.5-cp37-cp37m-manylinux1_x86_64.whl (10.1MB)\n",
      "Requirement already satisfied: pytz>=2017.2 in /usr/local/lib/python3.7/site-packages (from pandas)\n",
      "Requirement already satisfied: numpy>=1.13.3 in /usr/local/lib64/python3.7/site-packages (from pandas)\n",
      "Collecting python-dateutil>=2.6.1 (from pandas)\n",
      "  Downloading https://files.pythonhosted.org/packages/d4/70/d60450c3dd48ef87586924207ae8907090de0b306af2bce5d134d78615cb/python_dateutil-2.8.1-py2.py3-none-any.whl (227kB)\n",
      "Requirement already satisfied: six>=1.5 in /usr/local/lib/python3.7/site-packages (from python-dateutil>=2.6.1->pandas)\n",
      "Installing collected packages: python-dateutil, pandas\n",
      "Successfully installed pandas-1.0.5 python-dateutil-2.8.1"
     ]
    }
   ],
   "source": [
    "sc.install_pypi_package(\"pandas\")"
   ]
  },
  {
   "cell_type": "code",
   "execution_count": 61,
   "metadata": {},
   "outputs": [
    {
     "data": {
      "application/vnd.jupyter.widget-view+json": {
       "model_id": "606b0f62977d4d4d833e6fd1151c9087",
       "version_major": 2,
       "version_minor": 0
      },
      "text/plain": [
       "VBox()"
      ]
     },
     "metadata": {},
     "output_type": "display_data"
    },
    {
     "data": {
      "application/vnd.jupyter.widget-view+json": {
       "model_id": "",
       "version_major": 2,
       "version_minor": 0
      },
      "text/plain": [
       "FloatProgress(value=0.0, bar_style='info', description='Progress:', layout=Layout(height='25px', width='50%'),…"
      ]
     },
     "metadata": {},
     "output_type": "display_data"
    }
   ],
   "source": [
    "hwbc.write.csv(\"hwbc.csv\") # doesn't work"
   ]
  },
  {
   "cell_type": "code",
   "execution_count": 62,
   "metadata": {},
   "outputs": [
    {
     "data": {
      "application/vnd.jupyter.widget-view+json": {
       "model_id": "34c23159a28d45a0b3b77c009e9fceef",
       "version_major": 2,
       "version_minor": 0
      },
      "text/plain": [
       "VBox()"
      ]
     },
     "metadata": {},
     "output_type": "display_data"
    },
    {
     "data": {
      "application/vnd.jupyter.widget-view+json": {
       "model_id": "",
       "version_major": 2,
       "version_minor": 0
      },
      "text/plain": [
       "FloatProgress(value=0.0, bar_style='info', description='Progress:', layout=Layout(height='25px', width='50%'),…"
      ]
     },
     "metadata": {},
     "output_type": "display_data"
    }
   ],
   "source": [
    "# this puts out too many files \n",
    "hwbc.write.csv(\"s3://ms-syntheamass-1m-mldata/syntheamassCSV/patient_info\", mode=\"overwrite\") "
   ]
  },
  {
   "cell_type": "code",
   "execution_count": 68,
   "metadata": {},
   "outputs": [
    {
     "data": {
      "application/vnd.jupyter.widget-view+json": {
       "model_id": "f263d536833b42d9802ad464fbbe07be",
       "version_major": 2,
       "version_minor": 0
      },
      "text/plain": [
       "VBox()"
      ]
     },
     "metadata": {},
     "output_type": "display_data"
    },
    {
     "data": {
      "application/vnd.jupyter.widget-view+json": {
       "model_id": "",
       "version_major": 2,
       "version_minor": 0
      },
      "text/plain": [
       "FloatProgress(value=0.0, bar_style='info', description='Progress:', layout=Layout(height='25px', width='50%'),…"
      ]
     },
     "metadata": {},
     "output_type": "display_data"
    }
   ],
   "source": [
    "# this works\n",
    "#hwbc.coalesce(1).write.csv(\"s3://ms-syntheamass-1m-mldata/syntheamassCSV/patient_info\", mode=\"overwrite\")"
   ]
  },
  {
   "cell_type": "code",
   "execution_count": 71,
   "metadata": {},
   "outputs": [
    {
     "data": {
      "application/vnd.jupyter.widget-view+json": {
       "model_id": "2b91936e85264f1b814bd54aed7700e2",
       "version_major": 2,
       "version_minor": 0
      },
      "text/plain": [
       "VBox()"
      ]
     },
     "metadata": {},
     "output_type": "display_data"
    },
    {
     "data": {
      "application/vnd.jupyter.widget-view+json": {
       "model_id": "",
       "version_major": 2,
       "version_minor": 0
      },
      "text/plain": [
       "FloatProgress(value=0.0, bar_style='info', description='Progress:', layout=Layout(height='25px', width='50%'),…"
      ]
     },
     "metadata": {},
     "output_type": "display_data"
    }
   ],
   "source": [
    "data.toPandas()\n",
    "data.coalesce(1).write.csv(\"s3://ms-syntheamass-1m-mldata/syntheamassCSV/patient_info2\", mode=\"append\")"
   ]
  },
  {
   "cell_type": "code",
   "execution_count": 84,
   "metadata": {},
   "outputs": [
    {
     "data": {
      "application/vnd.jupyter.widget-view+json": {
       "model_id": "49aa1e10419f4181812e38681e579c6e",
       "version_major": 2,
       "version_minor": 0
      },
      "text/plain": [
       "VBox()"
      ]
     },
     "metadata": {},
     "output_type": "display_data"
    },
    {
     "data": {
      "application/vnd.jupyter.widget-view+json": {
       "model_id": "",
       "version_major": 2,
       "version_minor": 0
      },
      "text/plain": [
       "FloatProgress(value=0.0, bar_style='info', description='Progress:', layout=Layout(height='25px', width='50%'),…"
      ]
     },
     "metadata": {},
     "output_type": "display_data"
    },
    {
     "name": "stdout",
     "output_type": "stream",
     "text": [
      "+--------------------+------+------+-----+-----------+------+-------+--------------------+----------+----------+-----------+---------+----------+------+------------+------------+------+-----------+-------+--------+---------------+------+--------------------+--------------------+\n",
      "|             PATIENT|Height|Weight|  BMI|Cholesterol|Sodium|Glucose|                  ID| BIRTHDATE| DEATHDATE|        SSN|  DRIVERS|  PASSPORT|PREFIX|       FIRST|        LAST|SUFFIX|     MAIDEN|MARITAL|    RACE|      ETHNICITY|GENDER|          BIRTHPLACE|             ADDRESS|\n",
      "+--------------------+------+------+-----+-----------+------+-------+--------------------+----------+----------+-----------+---------+----------+------+------------+------------+------+-----------+-------+--------+---------------+------+--------------------+--------------------+\n",
      "|00eec485-f89d-472...| 172.3| 94.04|31.68|      207.0| 140.0|  116.0|00eec485-f89d-472...|1959-06-24|      null|999-58-4744|S99976041|     false|  Mrs.|     Ines894|   Fritsch85|  null|   Klein442|      M|hispanic|   puerto_rican|     F|      Pembroke MA US|84862 Ledner Lane...|\n",
      "|017299f2-de8f-43a...|177.38|135.75|43.15|      161.0| 139.0|   72.0|017299f2-de8f-43a...|1963-12-03|      null|999-34-5174|S99977429|X80575361X|   Mr.|   Katrina49|  Kilback494|  null|       null|      S|   white|        italian|     M|        Milton MA US|735 Cormier Haven...|\n",
      "|018dd53e-4b90-41c...|163.33|136.74|51.26|      162.0| 143.0|   71.0|018dd53e-4b90-41c...|1955-11-19|      null|999-61-8824|S99939808|X40140707X|   Mr.|   Jovani683|   Hickle792|  null|       null|      M|   white|          irish|     M|     Lynnfield MA US|10564 Moen Terrac...|\n",
      "|0190ce14-8897-495...| 161.1| 72.92| 28.1|      196.0| 137.0|   75.0|0190ce14-8897-495...|1939-03-17|      null|999-25-3545|S99938006|     false|  Mrs.|   Ashley900|   Reilly602|  null|  Kreiger23|      M|   white|          irish|     F|       Needham MA US|631 Felicity Thro...|\n",
      "|01e7a88d-34ac-494...|173.35|105.97|35.27|      169.0| 143.0|   85.0|01e7a88d-34ac-494...|1958-03-09|      null|999-11-2805|S99914794|     false|   Mr.|    Ferne269|  Quigley689|  null|       null|      S|   asian|        chinese|     M|        Groton MA US|4143 Freida Wall ...|\n",
      "|01f649ca-232e-4c1...|151.11|102.05|44.69|      199.0| 140.0|   94.0|01f649ca-232e-4c1...|1965-10-17|      null|999-43-3045|S99990750|     false|  Mrs.|   Maryam198|    Stamm279|  null| Kovacek705|      M|   white|french_canadian|     F|        Natick MA US|2433 Reilly Forge...|\n",
      "|0216c768-a4c0-46a...|169.24| 96.32|33.63|      197.0| 140.0|   64.0|0216c768-a4c0-46a...|1955-07-14|2016-11-17|999-65-3025|S99927915|     false|  Mrs.|   Hobart483| Parisian795|  null|   Price694|      M|   white|          irish|     F|        Boston MA US|877 Kayley Pines ...|\n",
      "|023230b8-01ca-4d3...|157.84| 92.49|37.13|      179.0| 142.0|   88.0|023230b8-01ca-4d3...|1955-01-31|      null|999-70-6851|S99972896|     false|   Ms.|    Helga981|  Ziemann158|  null|       null|      S|   white|          irish|     F|  Mattapoisett MA US|4328 Kevon Crossi...|\n",
      "|02357156-a39f-45f...|185.33|109.37|31.84|      173.0| 143.0|   74.0|02357156-a39f-45f...|1962-11-21|      null|999-47-1212|S99953193|X56997790X|   Mr.|  Madisyn927|Rosenbaum848|  null|       null|      M|   white|        russian|     M|   New Bedford MA US|9733 Monahan Cape...|\n",
      "|0259aa6f-d531-43f...|163.33|100.15|37.54|      233.0| 140.0|  100.0|0259aa6f-d531-43f...|1970-10-05|      null|999-36-1813|S99957090|X70831933X|   Mr.| Clifford283| Reichert456|  null|       null|      S|   white|          irish|     M|      Plymouth MA US|110 Ruthie Road A...|\n",
      "|029f2ed6-60a0-4d4...|170.46|111.64|38.42|      171.0| 144.0|   90.0|029f2ed6-60a0-4d4...|1948-08-03|      null|999-78-2279|S99927705|     false|   Mr.|  Rosendo702|  Shields195|  null|       null|      S|   white|          irish|     M|        Boston MA US|558 Dicki Lake Ap...|\n",
      "|02b97303-7790-40e...|170.45|112.29|38.65|      199.0| 144.0|   78.0|02b97303-7790-40e...|1958-09-27|      null|999-24-6468|S99976838|X13067535X|   Mr.|  Mckenzie31|  Goyette587|  null|       null|      M|   white|          irish|     M|        Quincy MA US|81003 Richmond In...|\n",
      "|030c04eb-d2db-44b...|166.01|  92.5|33.56|      178.0| 143.0|   72.0|030c04eb-d2db-44b...|1961-10-30|      null|999-80-7978|S99963063|     false|   Ms.|      Ena193|  MacGyver61|  null|       null|      S|   white|        swedish|     F|        Boston MA US|43182 Bauch Union...|\n",
      "|0319573e-be76-493...|175.46| 92.34|29.99|      160.0| 141.0|   98.0|0319573e-be76-493...|1952-07-28|      null|999-61-2360|S99992680|     false|  Mrs.| Muhammad284| Homenick118|  null|   Blick189|      M|   white|         german|     F|    Marshfield MA US|166 Eino Mews Spe...|\n",
      "|032a3bbb-f3f9-49a...|173.81|108.56|35.93|      172.0| 139.0|   71.0|032a3bbb-f3f9-49a...|1949-09-01|      null|999-89-7343|S99996288|X26293889X|   Mr.|   Eldred531|   Daniel706|  null|       null|      S|   black|        african|     M|         Salem MA US|14823 McGlynn Rad...|\n",
      "|032b06a5-c22c-496...|162.92|102.96|38.79|      200.0| 143.0|   77.0|032b06a5-c22c-496...|1954-02-05|      null|999-34-2888|S99925504|     false|  Mrs.|    Susie539|    Wyman650|  null|   Crona311|      M|   white|        italian|     F|        Boston MA US|4843 Nasir Keys A...|\n",
      "|033314e0-a85b-4a2...|166.72| 76.58|27.55|      182.0| 139.0|   99.0|033314e0-a85b-4a2...|1982-01-29|      null|999-37-4507|S99948799|     false|  Mrs.| Eldridge491|     Bode551|  null|Tremblay288|      M|   white|          irish|     F|      Plymouth MA US|9626 Janie Mount ...|\n",
      "|03644540-9e63-4cb...|181.81|122.25|36.98|      169.0| 142.0|   94.0|03644540-9e63-4cb...|1962-04-13|      null|999-86-8109|S99951744|X83461242X|   Mr.|     Anna659|  Schuppe795|  null|       null|      M|   white|        russian|     M|     Lynnfield MA US|3068 Emmerich Sho...|\n",
      "|03745294-8bba-414...|170.52| 96.17|33.08|      185.0| 143.0|   81.0|03745294-8bba-414...|1950-06-11|      null|999-19-3672|S99956000|X45484833X|   Mr.|Genevieve458|    Zieme669|  null|       null|      M|   white|         german|     M|East Brookfield M...|205 Gaetano Inlet...|\n",
      "|03a2a827-8305-4d4...|179.26|107.07|33.32|      173.0| 144.0|   93.0|03a2a827-8305-4d4...|1974-05-03|      null|999-35-5823|S99992661|X28060798X|   Mr.|    Macey772|  Schmeler79|  null|       null|      M|hispanic|   puerto_rican|     M|      Hatfield MA US|315 Bulah Mount A...|\n",
      "+--------------------+------+------+-----+-----------+------+-------+--------------------+----------+----------+-----------+---------+----------+------+------------+------------+------+-----------+-------+--------+---------------+------+--------------------+--------------------+\n",
      "only showing top 20 rows"
     ]
    }
   ],
   "source": [
    "# loading more data\n",
    "bucket_file = \"s3://ms-syntheamass-1m-mldata/syntheamassCSV/output_1/csv/patients.csv\"\n",
    "patients = spark.read.format(\"csv\").option(\"inferSchema\", True).option(\"header\", True).load(bucket_file)\n",
    "\n",
    "patients.createOrReplaceTempView(\"patients\")\n",
    "data.createOrReplaceTempView(\"data\")\n",
    "\n",
    "merged_tables = spark.sql(\"\"\"\n",
    "select d.*, p.*\n",
    "from data d \n",
    "join patients p\n",
    "on d.PATIENT = p.ID\n",
    "\"\"\")\n",
    "\n",
    "\n",
    "\n",
    "merged_tables.show()"
   ]
  },
  {
   "cell_type": "code",
   "execution_count": 85,
   "metadata": {},
   "outputs": [
    {
     "data": {
      "application/vnd.jupyter.widget-view+json": {
       "model_id": "aaee43b395d2487781fa56a98c9c99c1",
       "version_major": 2,
       "version_minor": 0
      },
      "text/plain": [
       "VBox()"
      ]
     },
     "metadata": {},
     "output_type": "display_data"
    },
    {
     "data": {
      "application/vnd.jupyter.widget-view+json": {
       "model_id": "",
       "version_major": 2,
       "version_minor": 0
      },
      "text/plain": [
       "FloatProgress(value=0.0, bar_style='info', description='Progress:', layout=Layout(height='25px', width='50%'),…"
      ]
     },
     "metadata": {},
     "output_type": "display_data"
    }
   ],
   "source": [
    "merged_tables.coalesce(1).write.csv(\"s3://ms-syntheamass-1m-mldata/syntheamassCSV/patient_info2\", \n",
    "                             header = 'true', mode=\"append\")"
   ]
  },
  {
   "cell_type": "code",
   "execution_count": null,
   "metadata": {},
   "outputs": [],
   "source": []
  }
 ],
 "metadata": {
  "kernelspec": {
   "display_name": "PySpark",
   "language": "",
   "name": "pysparkkernel"
  },
  "language_info": {
   "codemirror_mode": {
    "name": "python",
    "version": 2
   },
   "mimetype": "text/x-python",
   "name": "pyspark",
   "pygments_lexer": "python2"
  }
 },
 "nbformat": 4,
 "nbformat_minor": 4
}
